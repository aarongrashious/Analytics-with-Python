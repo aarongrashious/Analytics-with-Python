{
  "nbformat": 4,
  "nbformat_minor": 0,
  "metadata": {
    "colab": {
      "provenance": [],
      "authorship_tag": "ABX9TyPF7JDNbcey3QUAAFe2L7cO",
      "include_colab_link": true
    },
    "kernelspec": {
      "name": "python3",
      "display_name": "Python 3"
    },
    "language_info": {
      "name": "python"
    }
  },
  "cells": [
    {
      "cell_type": "markdown",
      "metadata": {
        "id": "view-in-github",
        "colab_type": "text"
      },
      "source": [
        "<a href=\"https://colab.research.google.com/github/aarongrashious/Analytics-with-Python/blob/main/Untitled1.ipynb\" target=\"_parent\"><img src=\"https://colab.research.google.com/assets/colab-badge.svg\" alt=\"Open In Colab\"/></a>"
      ]
    },
    {
      "cell_type": "code",
      "execution_count": 5,
      "metadata": {
        "id": "lpXgV5tWFiW3"
      },
      "outputs": [],
      "source": [
        "x=[\"aaron grashious\",2,18,\"5/7/2004\",\"varandarappilly\"]"
      ]
    },
    {
      "cell_type": "code",
      "source": [
        "print(x)"
      ],
      "metadata": {
        "colab": {
          "base_uri": "https://localhost:8080/"
        },
        "id": "pUwcLcE_Grty",
        "outputId": "8a5f3005-7b0e-4179-a08e-41a2b04cecdd"
      },
      "execution_count": 6,
      "outputs": [
        {
          "output_type": "stream",
          "name": "stdout",
          "text": [
            "['aaron grashious', 2, 18, '5/7/2004', 'varandarappilly']\n"
          ]
        }
      ]
    },
    {
      "cell_type": "code",
      "source": [
        "x[0]"
      ],
      "metadata": {
        "colab": {
          "base_uri": "https://localhost:8080/",
          "height": 35
        },
        "id": "Hry0596qG6aq",
        "outputId": "ea533a2f-1a8b-4f06-d95d-3d7d73893465"
      },
      "execution_count": 7,
      "outputs": [
        {
          "output_type": "execute_result",
          "data": {
            "text/plain": [
              "'aaron grashious'"
            ],
            "application/vnd.google.colaboratory.intrinsic+json": {
              "type": "string"
            }
          },
          "metadata": {},
          "execution_count": 7
        }
      ]
    },
    {
      "cell_type": "code",
      "source": [
        "x[2]"
      ],
      "metadata": {
        "colab": {
          "base_uri": "https://localhost:8080/"
        },
        "id": "YYLXA_aBIENZ",
        "outputId": "47433a68-0ea3-4b54-c662-84f4f278f3b0"
      },
      "execution_count": 9,
      "outputs": [
        {
          "output_type": "execute_result",
          "data": {
            "text/plain": [
              "18"
            ]
          },
          "metadata": {},
          "execution_count": 9
        }
      ]
    },
    {
      "cell_type": "code",
      "source": [
        "x.append(\"thrissur\")"
      ],
      "metadata": {
        "id": "ycdZYPPKIGvR"
      },
      "execution_count": 10,
      "outputs": []
    },
    {
      "cell_type": "code",
      "source": [
        "x"
      ],
      "metadata": {
        "colab": {
          "base_uri": "https://localhost:8080/"
        },
        "id": "KcX3NZoTI2bR",
        "outputId": "57b8d7d6-499a-45fe-f446-2acea26a5837"
      },
      "execution_count": 11,
      "outputs": [
        {
          "output_type": "execute_result",
          "data": {
            "text/plain": [
              "['aaron grashious', 2, 18, '5/7/2004', 'varandarappilly', 'thrissur']"
            ]
          },
          "metadata": {},
          "execution_count": 11
        }
      ]
    },
    {
      "cell_type": "code",
      "source": [
        "x.insert(1,\"kerala\")"
      ],
      "metadata": {
        "id": "Xx8iM6LzI4pY"
      },
      "execution_count": 12,
      "outputs": []
    },
    {
      "cell_type": "code",
      "source": [
        "x"
      ],
      "metadata": {
        "colab": {
          "base_uri": "https://localhost:8080/"
        },
        "id": "7aEF0UebKCbQ",
        "outputId": "7e2790d9-59de-419a-ead7-0840059bb96f"
      },
      "execution_count": 13,
      "outputs": [
        {
          "output_type": "execute_result",
          "data": {
            "text/plain": [
              "['aaron grashious', 'kerala', 2, 18, '5/7/2004', 'varandarappilly', 'thrissur']"
            ]
          },
          "metadata": {},
          "execution_count": 13
        }
      ]
    },
    {
      "cell_type": "code",
      "source": [
        "x=int(input(\"mark\"))\n",
        "if x >50:\n",
        "  print(\"pass\")\n",
        "if x <50:\n",
        "  print(\"fail\")"
      ],
      "metadata": {
        "colab": {
          "base_uri": "https://localhost:8080/"
        },
        "id": "KhVi0gsYO8P2",
        "outputId": "31be4a7f-fac0-4348-b1e9-473a60ba9794"
      },
      "execution_count": 16,
      "outputs": [
        {
          "output_type": "stream",
          "name": "stdout",
          "text": [
            "mark80\n",
            "pass\n"
          ]
        }
      ]
    },
    {
      "cell_type": "code",
      "source": [
        "x=[\"tom\",\"zutu\",\"supermen\"]"
      ],
      "metadata": {
        "id": "oVd7M7DlSDkM"
      },
      "execution_count": 22,
      "outputs": []
    },
    {
      "cell_type": "code",
      "source": [
        " a=input(\"Enter a name\")"
      ],
      "metadata": {
        "colab": {
          "base_uri": "https://localhost:8080/"
        },
        "id": "y_FBRNMGUAb0",
        "outputId": "15fffcf9-3408-4ad2-84ca-41d85dbced9f"
      },
      "execution_count": 27,
      "outputs": [
        {
          "name": "stdout",
          "output_type": "stream",
          "text": [
            "Enter a nameaaron\n"
          ]
        }
      ]
    },
    {
      "cell_type": "code",
      "source": [
        "a"
      ],
      "metadata": {
        "colab": {
          "base_uri": "https://localhost:8080/",
          "height": 35
        },
        "id": "86jWJXCvbgwO",
        "outputId": "24a83d0c-f37f-4876-c9c2-9a73528aba0e"
      },
      "execution_count": 29,
      "outputs": [
        {
          "output_type": "execute_result",
          "data": {
            "text/plain": [
              "'aaron'"
            ],
            "application/vnd.google.colaboratory.intrinsic+json": {
              "type": "string"
            }
          },
          "metadata": {},
          "execution_count": 29
        }
      ]
    },
    {
      "cell_type": "code",
      "source": [
        "x.append(a)"
      ],
      "metadata": {
        "id": "fthwSK0ZbjZ-"
      },
      "execution_count": 32,
      "outputs": []
    },
    {
      "cell_type": "code",
      "source": [
        "x"
      ],
      "metadata": {
        "colab": {
          "base_uri": "https://localhost:8080/"
        },
        "id": "7QTviBHdboLu",
        "outputId": "f0ceac29-42f0-4fe4-e91d-d74cee1aca0d"
      },
      "execution_count": 31,
      "outputs": [
        {
          "output_type": "execute_result",
          "data": {
            "text/plain": [
              "['tom', 'zutu', 'supermen', 'Shiva', 'aaron']"
            ]
          },
          "metadata": {},
          "execution_count": 31
        }
      ]
    },
    {
      "cell_type": "code",
      "source": [
        "x=[\"sunny\",\"john\",\"binoy\",\"joy\"]\n",
        "print(x)\n",
        "y=input(\"enter a name\")\n",
        "x.append(y)\n",
        "print(x)"
      ],
      "metadata": {
        "colab": {
          "base_uri": "https://localhost:8080/"
        },
        "id": "V4RJzFIBbo9m",
        "outputId": "d60d5a61-adb3-4b0e-822b-70bda6cc8b4a"
      },
      "execution_count": 36,
      "outputs": [
        {
          "output_type": "stream",
          "name": "stdout",
          "text": [
            "['sunny', 'john', 'binoy', 'joy']\n",
            "enter a namejoyel\n",
            "['sunny', 'john', 'binoy', 'joy', 'joyel']\n"
          ]
        }
      ]
    },
    {
      "cell_type": "code",
      "source": [],
      "metadata": {
        "id": "1I96cpy-g8jk"
      },
      "execution_count": 36,
      "outputs": []
    }
  ]
}